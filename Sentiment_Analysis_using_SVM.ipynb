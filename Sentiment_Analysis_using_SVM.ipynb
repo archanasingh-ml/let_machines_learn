{
  "cells": [
    {
      "cell_type": "markdown",
      "metadata": {
        "id": "view-in-github",
        "colab_type": "text"
      },
      "source": [
        "<a href=\"https://colab.research.google.com/github/archanasingh-ml/ml_experiments/blob/main/Sentiment_Analysis_using_SVM.ipynb\" target=\"_parent\"><img src=\"https://colab.research.google.com/assets/colab-badge.svg\" alt=\"Open In Colab\"/></a>"
      ]
    },
    {
      "cell_type": "code",
      "execution_count": null,
      "metadata": {
        "colab": {
          "base_uri": "https://localhost:8080/",
          "height": 417
        },
        "id": "KNsImQBqnV1I",
        "outputId": "449cda4c-8827-456e-c051-3dcaa1438142"
      },
      "outputs": [
        {
          "name": "stdout",
          "output_type": "stream",
          "text": [
            "Collecting nltk==3.5\n",
            "  Downloading nltk-3.5.zip (1.4 MB)\n",
            "\u001b[?25l\r\u001b[K     |▎                               | 10 kB 21.8 MB/s eta 0:00:01\r\u001b[K     |▌                               | 20 kB 27.4 MB/s eta 0:00:01\r\u001b[K     |▊                               | 30 kB 28.5 MB/s eta 0:00:01\r\u001b[K     |█                               | 40 kB 31.2 MB/s eta 0:00:01\r\u001b[K     |█▏                              | 51 kB 18.7 MB/s eta 0:00:01\r\u001b[K     |█▍                              | 61 kB 17.2 MB/s eta 0:00:01\r\u001b[K     |█▋                              | 71 kB 12.9 MB/s eta 0:00:01\r\u001b[K     |█▉                              | 81 kB 14.0 MB/s eta 0:00:01\r\u001b[K     |██                              | 92 kB 13.3 MB/s eta 0:00:01\r\u001b[K     |██▎                             | 102 kB 12.1 MB/s eta 0:00:01\r\u001b[K     |██▌                             | 112 kB 12.1 MB/s eta 0:00:01\r\u001b[K     |██▊                             | 122 kB 12.1 MB/s eta 0:00:01\r\u001b[K     |███                             | 133 kB 12.1 MB/s eta 0:00:01\r\u001b[K     |███▏                            | 143 kB 12.1 MB/s eta 0:00:01\r\u001b[K     |███▍                            | 153 kB 12.1 MB/s eta 0:00:01\r\u001b[K     |███▋                            | 163 kB 12.1 MB/s eta 0:00:01\r\u001b[K     |███▉                            | 174 kB 12.1 MB/s eta 0:00:01\r\u001b[K     |████▏                           | 184 kB 12.1 MB/s eta 0:00:01\r\u001b[K     |████▍                           | 194 kB 12.1 MB/s eta 0:00:01\r\u001b[K     |████▋                           | 204 kB 12.1 MB/s eta 0:00:01\r\u001b[K     |████▉                           | 215 kB 12.1 MB/s eta 0:00:01\r\u001b[K     |█████                           | 225 kB 12.1 MB/s eta 0:00:01\r\u001b[K     |█████▎                          | 235 kB 12.1 MB/s eta 0:00:01\r\u001b[K     |█████▌                          | 245 kB 12.1 MB/s eta 0:00:01\r\u001b[K     |█████▊                          | 256 kB 12.1 MB/s eta 0:00:01\r\u001b[K     |██████                          | 266 kB 12.1 MB/s eta 0:00:01\r\u001b[K     |██████▏                         | 276 kB 12.1 MB/s eta 0:00:01\r\u001b[K     |██████▍                         | 286 kB 12.1 MB/s eta 0:00:01\r\u001b[K     |██████▋                         | 296 kB 12.1 MB/s eta 0:00:01\r\u001b[K     |██████▉                         | 307 kB 12.1 MB/s eta 0:00:01\r\u001b[K     |███████                         | 317 kB 12.1 MB/s eta 0:00:01\r\u001b[K     |███████▎                        | 327 kB 12.1 MB/s eta 0:00:01\r\u001b[K     |███████▌                        | 337 kB 12.1 MB/s eta 0:00:01\r\u001b[K     |███████▊                        | 348 kB 12.1 MB/s eta 0:00:01\r\u001b[K     |████████                        | 358 kB 12.1 MB/s eta 0:00:01\r\u001b[K     |████████▎                       | 368 kB 12.1 MB/s eta 0:00:01\r\u001b[K     |████████▌                       | 378 kB 12.1 MB/s eta 0:00:01\r\u001b[K     |████████▊                       | 389 kB 12.1 MB/s eta 0:00:01\r\u001b[K     |█████████                       | 399 kB 12.1 MB/s eta 0:00:01\r\u001b[K     |█████████▏                      | 409 kB 12.1 MB/s eta 0:00:01\r\u001b[K     |█████████▍                      | 419 kB 12.1 MB/s eta 0:00:01\r\u001b[K     |█████████▋                      | 430 kB 12.1 MB/s eta 0:00:01\r\u001b[K     |█████████▉                      | 440 kB 12.1 MB/s eta 0:00:01\r\u001b[K     |██████████                      | 450 kB 12.1 MB/s eta 0:00:01\r\u001b[K     |██████████▎                     | 460 kB 12.1 MB/s eta 0:00:01\r\u001b[K     |██████████▌                     | 471 kB 12.1 MB/s eta 0:00:01\r\u001b[K     |██████████▊                     | 481 kB 12.1 MB/s eta 0:00:01\r\u001b[K     |███████████                     | 491 kB 12.1 MB/s eta 0:00:01\r\u001b[K     |███████████▏                    | 501 kB 12.1 MB/s eta 0:00:01\r\u001b[K     |███████████▍                    | 512 kB 12.1 MB/s eta 0:00:01\r\u001b[K     |███████████▋                    | 522 kB 12.1 MB/s eta 0:00:01\r\u001b[K     |███████████▉                    | 532 kB 12.1 MB/s eta 0:00:01\r\u001b[K     |████████████▏                   | 542 kB 12.1 MB/s eta 0:00:01\r\u001b[K     |████████████▍                   | 552 kB 12.1 MB/s eta 0:00:01\r\u001b[K     |████████████▋                   | 563 kB 12.1 MB/s eta 0:00:01\r\u001b[K     |████████████▉                   | 573 kB 12.1 MB/s eta 0:00:01\r\u001b[K     |█████████████                   | 583 kB 12.1 MB/s eta 0:00:01\r\u001b[K     |█████████████▎                  | 593 kB 12.1 MB/s eta 0:00:01\r\u001b[K     |█████████████▌                  | 604 kB 12.1 MB/s eta 0:00:01\r\u001b[K     |█████████████▊                  | 614 kB 12.1 MB/s eta 0:00:01\r\u001b[K     |██████████████                  | 624 kB 12.1 MB/s eta 0:00:01\r\u001b[K     |██████████████▏                 | 634 kB 12.1 MB/s eta 0:00:01\r\u001b[K     |██████████████▍                 | 645 kB 12.1 MB/s eta 0:00:01\r\u001b[K     |██████████████▋                 | 655 kB 12.1 MB/s eta 0:00:01\r\u001b[K     |██████████████▉                 | 665 kB 12.1 MB/s eta 0:00:01\r\u001b[K     |███████████████                 | 675 kB 12.1 MB/s eta 0:00:01\r\u001b[K     |███████████████▎                | 686 kB 12.1 MB/s eta 0:00:01\r\u001b[K     |███████████████▌                | 696 kB 12.1 MB/s eta 0:00:01\r\u001b[K     |███████████████▊                | 706 kB 12.1 MB/s eta 0:00:01\r\u001b[K     |████████████████                | 716 kB 12.1 MB/s eta 0:00:01\r\u001b[K     |████████████████▎               | 727 kB 12.1 MB/s eta 0:00:01\r\u001b[K     |████████████████▌               | 737 kB 12.1 MB/s eta 0:00:01\r\u001b[K     |████████████████▊               | 747 kB 12.1 MB/s eta 0:00:01\r\u001b[K     |█████████████████               | 757 kB 12.1 MB/s eta 0:00:01\r\u001b[K     |█████████████████▏              | 768 kB 12.1 MB/s eta 0:00:01\r\u001b[K     |█████████████████▍              | 778 kB 12.1 MB/s eta 0:00:01\r\u001b[K     |█████████████████▋              | 788 kB 12.1 MB/s eta 0:00:01\r\u001b[K     |█████████████████▉              | 798 kB 12.1 MB/s eta 0:00:01\r\u001b[K     |██████████████████              | 808 kB 12.1 MB/s eta 0:00:01\r\u001b[K     |██████████████████▎             | 819 kB 12.1 MB/s eta 0:00:01\r\u001b[K     |██████████████████▌             | 829 kB 12.1 MB/s eta 0:00:01\r\u001b[K     |██████████████████▊             | 839 kB 12.1 MB/s eta 0:00:01\r\u001b[K     |███████████████████             | 849 kB 12.1 MB/s eta 0:00:01\r\u001b[K     |███████████████████▏            | 860 kB 12.1 MB/s eta 0:00:01\r\u001b[K     |███████████████████▍            | 870 kB 12.1 MB/s eta 0:00:01\r\u001b[K     |███████████████████▋            | 880 kB 12.1 MB/s eta 0:00:01\r\u001b[K     |███████████████████▉            | 890 kB 12.1 MB/s eta 0:00:01\r\u001b[K     |████████████████████▏           | 901 kB 12.1 MB/s eta 0:00:01\r\u001b[K     |████████████████████▍           | 911 kB 12.1 MB/s eta 0:00:01\r\u001b[K     |████████████████████▋           | 921 kB 12.1 MB/s eta 0:00:01\r\u001b[K     |████████████████████▉           | 931 kB 12.1 MB/s eta 0:00:01\r\u001b[K     |█████████████████████           | 942 kB 12.1 MB/s eta 0:00:01\r\u001b[K     |█████████████████████▎          | 952 kB 12.1 MB/s eta 0:00:01\r\u001b[K     |█████████████████████▌          | 962 kB 12.1 MB/s eta 0:00:01\r\u001b[K     |█████████████████████▊          | 972 kB 12.1 MB/s eta 0:00:01\r\u001b[K     |██████████████████████          | 983 kB 12.1 MB/s eta 0:00:01\r\u001b[K     |██████████████████████▏         | 993 kB 12.1 MB/s eta 0:00:01\r\u001b[K     |██████████████████████▍         | 1.0 MB 12.1 MB/s eta 0:00:01\r\u001b[K     |██████████████████████▋         | 1.0 MB 12.1 MB/s eta 0:00:01\r\u001b[K     |██████████████████████▉         | 1.0 MB 12.1 MB/s eta 0:00:01\r\u001b[K     |███████████████████████         | 1.0 MB 12.1 MB/s eta 0:00:01\r\u001b[K     |███████████████████████▎        | 1.0 MB 12.1 MB/s eta 0:00:01\r\u001b[K     |███████████████████████▌        | 1.1 MB 12.1 MB/s eta 0:00:01\r\u001b[K     |███████████████████████▊        | 1.1 MB 12.1 MB/s eta 0:00:01\r\u001b[K     |████████████████████████        | 1.1 MB 12.1 MB/s eta 0:00:01\r\u001b[K     |████████████████████████▎       | 1.1 MB 12.1 MB/s eta 0:00:01\r\u001b[K     |████████████████████████▌       | 1.1 MB 12.1 MB/s eta 0:00:01\r\u001b[K     |████████████████████████▊       | 1.1 MB 12.1 MB/s eta 0:00:01\r\u001b[K     |█████████████████████████       | 1.1 MB 12.1 MB/s eta 0:00:01\r\u001b[K     |█████████████████████████▏      | 1.1 MB 12.1 MB/s eta 0:00:01\r\u001b[K     |█████████████████████████▍      | 1.1 MB 12.1 MB/s eta 0:00:01\r\u001b[K     |█████████████████████████▋      | 1.1 MB 12.1 MB/s eta 0:00:01\r\u001b[K     |█████████████████████████▉      | 1.2 MB 12.1 MB/s eta 0:00:01\r\u001b[K     |██████████████████████████      | 1.2 MB 12.1 MB/s eta 0:00:01\r\u001b[K     |██████████████████████████▎     | 1.2 MB 12.1 MB/s eta 0:00:01\r\u001b[K     |██████████████████████████▌     | 1.2 MB 12.1 MB/s eta 0:00:01\r\u001b[K     |██████████████████████████▊     | 1.2 MB 12.1 MB/s eta 0:00:01\r\u001b[K     |███████████████████████████     | 1.2 MB 12.1 MB/s eta 0:00:01\r\u001b[K     |███████████████████████████▏    | 1.2 MB 12.1 MB/s eta 0:00:01\r\u001b[K     |███████████████████████████▍    | 1.2 MB 12.1 MB/s eta 0:00:01\r\u001b[K     |███████████████████████████▋    | 1.2 MB 12.1 MB/s eta 0:00:01\r\u001b[K     |███████████████████████████▉    | 1.2 MB 12.1 MB/s eta 0:00:01\r\u001b[K     |████████████████████████████▏   | 1.3 MB 12.1 MB/s eta 0:00:01\r\u001b[K     |████████████████████████████▍   | 1.3 MB 12.1 MB/s eta 0:00:01\r\u001b[K     |████████████████████████████▋   | 1.3 MB 12.1 MB/s eta 0:00:01\r\u001b[K     |████████████████████████████▉   | 1.3 MB 12.1 MB/s eta 0:00:01\r\u001b[K     |█████████████████████████████   | 1.3 MB 12.1 MB/s eta 0:00:01\r\u001b[K     |█████████████████████████████▎  | 1.3 MB 12.1 MB/s eta 0:00:01\r\u001b[K     |█████████████████████████████▌  | 1.3 MB 12.1 MB/s eta 0:00:01\r\u001b[K     |█████████████████████████████▊  | 1.3 MB 12.1 MB/s eta 0:00:01\r\u001b[K     |██████████████████████████████  | 1.3 MB 12.1 MB/s eta 0:00:01\r\u001b[K     |██████████████████████████████▏ | 1.4 MB 12.1 MB/s eta 0:00:01\r\u001b[K     |██████████████████████████████▍ | 1.4 MB 12.1 MB/s eta 0:00:01\r\u001b[K     |██████████████████████████████▋ | 1.4 MB 12.1 MB/s eta 0:00:01\r\u001b[K     |██████████████████████████████▉ | 1.4 MB 12.1 MB/s eta 0:00:01\r\u001b[K     |███████████████████████████████ | 1.4 MB 12.1 MB/s eta 0:00:01\r\u001b[K     |███████████████████████████████▎| 1.4 MB 12.1 MB/s eta 0:00:01\r\u001b[K     |███████████████████████████████▌| 1.4 MB 12.1 MB/s eta 0:00:01\r\u001b[K     |███████████████████████████████▊| 1.4 MB 12.1 MB/s eta 0:00:01\r\u001b[K     |████████████████████████████████| 1.4 MB 12.1 MB/s \n",
            "\u001b[?25hRequirement already satisfied: click in /usr/local/lib/python3.7/dist-packages (from nltk==3.5) (7.1.2)\n",
            "Requirement already satisfied: joblib in /usr/local/lib/python3.7/dist-packages (from nltk==3.5) (1.1.0)\n",
            "Requirement already satisfied: regex in /usr/local/lib/python3.7/dist-packages (from nltk==3.5) (2019.12.20)\n",
            "Requirement already satisfied: tqdm in /usr/local/lib/python3.7/dist-packages (from nltk==3.5) (4.62.3)\n",
            "Building wheels for collected packages: nltk\n",
            "  Building wheel for nltk (setup.py) ... \u001b[?25l\u001b[?25hdone\n",
            "  Created wheel for nltk: filename=nltk-3.5-py3-none-any.whl size=1434693 sha256=9025e68859cccadd7f18035dbe14f6965f4aaaa5a5521067b53befc1577d93a6\n",
            "  Stored in directory: /root/.cache/pip/wheels/45/6c/46/a1865e7ba706b3817f5d1b2ff7ce8996aabdd0d03d47ba0266\n",
            "Successfully built nltk\n",
            "Installing collected packages: nltk\n",
            "  Attempting uninstall: nltk\n",
            "    Found existing installation: nltk 3.2.5\n",
            "    Uninstalling nltk-3.2.5:\n",
            "      Successfully uninstalled nltk-3.2.5\n",
            "Successfully installed nltk-3.5\n"
          ]
        },
        {
          "data": {
            "application/vnd.colab-display-data+json": {
              "pip_warning": {
                "packages": [
                  "nltk"
                ]
              }
            }
          },
          "metadata": {},
          "output_type": "display_data"
        }
      ],
      "source": [
        "!pip install nltk==3.5"
      ]
    },
    {
      "cell_type": "code",
      "execution_count": 2,
      "metadata": {
        "id": "6TlhrN9Sajgw"
      },
      "outputs": [],
      "source": [
        "\n",
        "import numpy as np\n",
        "import pandas as pd\n",
        "from bs4 import BeautifulSoup\n",
        "import matplotlib.pyplot as plt\n",
        "import seaborn as sns\n",
        "\n",
        "import nltk\n",
        "from nltk.corpus import stopwords\n",
        "from nltk.stem import SnowballStemmer\n",
        "from nltk.tokenize import TweetTokenizer\n",
        "\n",
        "from sklearn.feature_extraction.text import CountVectorizer, TfidfTransformer\n",
        "from sklearn.linear_model import LogisticRegression\n",
        "from sklearn.svm import SVC\n",
        "from sklearn.model_selection import train_test_split, StratifiedKFold, cross_val_score\n",
        "from sklearn.pipeline import make_pipeline, Pipeline\n",
        "from sklearn.model_selection import GridSearchCV\n",
        "from sklearn.metrics import make_scorer, accuracy_score, f1_score\n",
        "from sklearn.metrics import roc_curve, auc\n",
        "from sklearn.metrics import confusion_matrix, roc_auc_score, recall_score, precision_score"
      ]
    },
    {
      "cell_type": "code",
      "execution_count": 3,
      "metadata": {
        "id": "ecK_h5BVe_yU"
      },
      "outputs": [],
      "source": [
        "tweets = pd.read_csv('https://raw.githubusercontent.com/kolaveridi/kaggle-Twitter-US-Airline-Sentiment-/master/Tweets.csv')"
      ]
    },
    {
      "cell_type": "code",
      "execution_count": 4,
      "metadata": {
        "colab": {
          "base_uri": "https://localhost:8080/",
          "height": 496
        },
        "id": "JyNeoHBjf5m-",
        "outputId": "00f05525-8f55-48db-d5b6-6ce707c6a97c"
      },
      "outputs": [
        {
          "output_type": "execute_result",
          "data": {
            "text/html": [
              "\n",
              "  <div id=\"df-55734b45-cd6b-41ab-8aca-44e42d633375\">\n",
              "    <div class=\"colab-df-container\">\n",
              "      <div>\n",
              "<style scoped>\n",
              "    .dataframe tbody tr th:only-of-type {\n",
              "        vertical-align: middle;\n",
              "    }\n",
              "\n",
              "    .dataframe tbody tr th {\n",
              "        vertical-align: top;\n",
              "    }\n",
              "\n",
              "    .dataframe thead th {\n",
              "        text-align: right;\n",
              "    }\n",
              "</style>\n",
              "<table border=\"1\" class=\"dataframe\">\n",
              "  <thead>\n",
              "    <tr style=\"text-align: right;\">\n",
              "      <th></th>\n",
              "      <th>tweet_id</th>\n",
              "      <th>airline_sentiment</th>\n",
              "      <th>airline_sentiment_confidence</th>\n",
              "      <th>negativereason</th>\n",
              "      <th>negativereason_confidence</th>\n",
              "      <th>airline</th>\n",
              "      <th>airline_sentiment_gold</th>\n",
              "      <th>name</th>\n",
              "      <th>negativereason_gold</th>\n",
              "      <th>retweet_count</th>\n",
              "      <th>text</th>\n",
              "      <th>tweet_coord</th>\n",
              "      <th>tweet_created</th>\n",
              "      <th>tweet_location</th>\n",
              "      <th>user_timezone</th>\n",
              "    </tr>\n",
              "  </thead>\n",
              "  <tbody>\n",
              "    <tr>\n",
              "      <th>0</th>\n",
              "      <td>570306133677760513</td>\n",
              "      <td>neutral</td>\n",
              "      <td>1.0000</td>\n",
              "      <td>NaN</td>\n",
              "      <td>NaN</td>\n",
              "      <td>Virgin America</td>\n",
              "      <td>NaN</td>\n",
              "      <td>cairdin</td>\n",
              "      <td>NaN</td>\n",
              "      <td>0</td>\n",
              "      <td>@VirginAmerica What @dhepburn said.</td>\n",
              "      <td>NaN</td>\n",
              "      <td>2015-02-24 11:35:52 -0800</td>\n",
              "      <td>NaN</td>\n",
              "      <td>Eastern Time (US &amp; Canada)</td>\n",
              "    </tr>\n",
              "    <tr>\n",
              "      <th>1</th>\n",
              "      <td>570301130888122368</td>\n",
              "      <td>positive</td>\n",
              "      <td>0.3486</td>\n",
              "      <td>NaN</td>\n",
              "      <td>0.0000</td>\n",
              "      <td>Virgin America</td>\n",
              "      <td>NaN</td>\n",
              "      <td>jnardino</td>\n",
              "      <td>NaN</td>\n",
              "      <td>0</td>\n",
              "      <td>@VirginAmerica plus you've added commercials t...</td>\n",
              "      <td>NaN</td>\n",
              "      <td>2015-02-24 11:15:59 -0800</td>\n",
              "      <td>NaN</td>\n",
              "      <td>Pacific Time (US &amp; Canada)</td>\n",
              "    </tr>\n",
              "    <tr>\n",
              "      <th>2</th>\n",
              "      <td>570301083672813571</td>\n",
              "      <td>neutral</td>\n",
              "      <td>0.6837</td>\n",
              "      <td>NaN</td>\n",
              "      <td>NaN</td>\n",
              "      <td>Virgin America</td>\n",
              "      <td>NaN</td>\n",
              "      <td>yvonnalynn</td>\n",
              "      <td>NaN</td>\n",
              "      <td>0</td>\n",
              "      <td>@VirginAmerica I didn't today... Must mean I n...</td>\n",
              "      <td>NaN</td>\n",
              "      <td>2015-02-24 11:15:48 -0800</td>\n",
              "      <td>Lets Play</td>\n",
              "      <td>Central Time (US &amp; Canada)</td>\n",
              "    </tr>\n",
              "    <tr>\n",
              "      <th>3</th>\n",
              "      <td>570301031407624196</td>\n",
              "      <td>negative</td>\n",
              "      <td>1.0000</td>\n",
              "      <td>Bad Flight</td>\n",
              "      <td>0.7033</td>\n",
              "      <td>Virgin America</td>\n",
              "      <td>NaN</td>\n",
              "      <td>jnardino</td>\n",
              "      <td>NaN</td>\n",
              "      <td>0</td>\n",
              "      <td>@VirginAmerica it's really aggressive to blast...</td>\n",
              "      <td>NaN</td>\n",
              "      <td>2015-02-24 11:15:36 -0800</td>\n",
              "      <td>NaN</td>\n",
              "      <td>Pacific Time (US &amp; Canada)</td>\n",
              "    </tr>\n",
              "    <tr>\n",
              "      <th>4</th>\n",
              "      <td>570300817074462722</td>\n",
              "      <td>negative</td>\n",
              "      <td>1.0000</td>\n",
              "      <td>Can't Tell</td>\n",
              "      <td>1.0000</td>\n",
              "      <td>Virgin America</td>\n",
              "      <td>NaN</td>\n",
              "      <td>jnardino</td>\n",
              "      <td>NaN</td>\n",
              "      <td>0</td>\n",
              "      <td>@VirginAmerica and it's a really big bad thing...</td>\n",
              "      <td>NaN</td>\n",
              "      <td>2015-02-24 11:14:45 -0800</td>\n",
              "      <td>NaN</td>\n",
              "      <td>Pacific Time (US &amp; Canada)</td>\n",
              "    </tr>\n",
              "  </tbody>\n",
              "</table>\n",
              "</div>\n",
              "      <button class=\"colab-df-convert\" onclick=\"convertToInteractive('df-55734b45-cd6b-41ab-8aca-44e42d633375')\"\n",
              "              title=\"Convert this dataframe to an interactive table.\"\n",
              "              style=\"display:none;\">\n",
              "        \n",
              "  <svg xmlns=\"http://www.w3.org/2000/svg\" height=\"24px\"viewBox=\"0 0 24 24\"\n",
              "       width=\"24px\">\n",
              "    <path d=\"M0 0h24v24H0V0z\" fill=\"none\"/>\n",
              "    <path d=\"M18.56 5.44l.94 2.06.94-2.06 2.06-.94-2.06-.94-.94-2.06-.94 2.06-2.06.94zm-11 1L8.5 8.5l.94-2.06 2.06-.94-2.06-.94L8.5 2.5l-.94 2.06-2.06.94zm10 10l.94 2.06.94-2.06 2.06-.94-2.06-.94-.94-2.06-.94 2.06-2.06.94z\"/><path d=\"M17.41 7.96l-1.37-1.37c-.4-.4-.92-.59-1.43-.59-.52 0-1.04.2-1.43.59L10.3 9.45l-7.72 7.72c-.78.78-.78 2.05 0 2.83L4 21.41c.39.39.9.59 1.41.59.51 0 1.02-.2 1.41-.59l7.78-7.78 2.81-2.81c.8-.78.8-2.07 0-2.86zM5.41 20L4 18.59l7.72-7.72 1.47 1.35L5.41 20z\"/>\n",
              "  </svg>\n",
              "      </button>\n",
              "      \n",
              "  <style>\n",
              "    .colab-df-container {\n",
              "      display:flex;\n",
              "      flex-wrap:wrap;\n",
              "      gap: 12px;\n",
              "    }\n",
              "\n",
              "    .colab-df-convert {\n",
              "      background-color: #E8F0FE;\n",
              "      border: none;\n",
              "      border-radius: 50%;\n",
              "      cursor: pointer;\n",
              "      display: none;\n",
              "      fill: #1967D2;\n",
              "      height: 32px;\n",
              "      padding: 0 0 0 0;\n",
              "      width: 32px;\n",
              "    }\n",
              "\n",
              "    .colab-df-convert:hover {\n",
              "      background-color: #E2EBFA;\n",
              "      box-shadow: 0px 1px 2px rgba(60, 64, 67, 0.3), 0px 1px 3px 1px rgba(60, 64, 67, 0.15);\n",
              "      fill: #174EA6;\n",
              "    }\n",
              "\n",
              "    [theme=dark] .colab-df-convert {\n",
              "      background-color: #3B4455;\n",
              "      fill: #D2E3FC;\n",
              "    }\n",
              "\n",
              "    [theme=dark] .colab-df-convert:hover {\n",
              "      background-color: #434B5C;\n",
              "      box-shadow: 0px 1px 3px 1px rgba(0, 0, 0, 0.15);\n",
              "      filter: drop-shadow(0px 1px 2px rgba(0, 0, 0, 0.3));\n",
              "      fill: #FFFFFF;\n",
              "    }\n",
              "  </style>\n",
              "\n",
              "      <script>\n",
              "        const buttonEl =\n",
              "          document.querySelector('#df-55734b45-cd6b-41ab-8aca-44e42d633375 button.colab-df-convert');\n",
              "        buttonEl.style.display =\n",
              "          google.colab.kernel.accessAllowed ? 'block' : 'none';\n",
              "\n",
              "        async function convertToInteractive(key) {\n",
              "          const element = document.querySelector('#df-55734b45-cd6b-41ab-8aca-44e42d633375');\n",
              "          const dataTable =\n",
              "            await google.colab.kernel.invokeFunction('convertToInteractive',\n",
              "                                                     [key], {});\n",
              "          if (!dataTable) return;\n",
              "\n",
              "          const docLinkHtml = 'Like what you see? Visit the ' +\n",
              "            '<a target=\"_blank\" href=https://colab.research.google.com/notebooks/data_table.ipynb>data table notebook</a>'\n",
              "            + ' to learn more about interactive tables.';\n",
              "          element.innerHTML = '';\n",
              "          dataTable['output_type'] = 'display_data';\n",
              "          await google.colab.output.renderOutput(dataTable, element);\n",
              "          const docLink = document.createElement('div');\n",
              "          docLink.innerHTML = docLinkHtml;\n",
              "          element.appendChild(docLink);\n",
              "        }\n",
              "      </script>\n",
              "    </div>\n",
              "  </div>\n",
              "  "
            ],
            "text/plain": [
              "             tweet_id  ...               user_timezone\n",
              "0  570306133677760513  ...  Eastern Time (US & Canada)\n",
              "1  570301130888122368  ...  Pacific Time (US & Canada)\n",
              "2  570301083672813571  ...  Central Time (US & Canada)\n",
              "3  570301031407624196  ...  Pacific Time (US & Canada)\n",
              "4  570300817074462722  ...  Pacific Time (US & Canada)\n",
              "\n",
              "[5 rows x 15 columns]"
            ]
          },
          "metadata": {},
          "execution_count": 4
        }
      ],
      "source": [
        "tweets.head()"
      ]
    },
    {
      "cell_type": "code",
      "execution_count": 5,
      "metadata": {
        "id": "nzFDrnSAgF0T"
      },
      "outputs": [],
      "source": [
        "#take the rows where wehave onfidence more than 60%\n",
        "tweets = tweets[tweets['airline_sentiment_confidence'] > .600]"
      ]
    },
    {
      "cell_type": "code",
      "execution_count": 6,
      "metadata": {
        "id": "MgARjUN3gtHY"
      },
      "outputs": [],
      "source": [
        "#Setting negative sentiment as 1 else 0, 0 covers both positive and neutral\n",
        "\n",
        "tweets['sentiment'] = tweets['airline_sentiment'].apply(lambda x: 1 if x=='negative' else 0 )"
      ]
    },
    {
      "cell_type": "code",
      "execution_count": 7,
      "metadata": {
        "id": "TEULocaFjCk0"
      },
      "outputs": [],
      "source": [
        "#Use BeautifulSoup library to process html encoding present in some tweets because of web scrapping.\n",
        "tweets['text_clean'] = tweets['text'].apply(lambda x: BeautifulSoup(x, \"lxml\").text)"
      ]
    },
    {
      "cell_type": "code",
      "execution_count": 8,
      "metadata": {
        "colab": {
          "base_uri": "https://localhost:8080/",
          "height": 496
        },
        "id": "0rYlidnljLFz",
        "outputId": "f5517d46-e445-44ac-b312-b65d19b9790a"
      },
      "outputs": [
        {
          "output_type": "execute_result",
          "data": {
            "text/html": [
              "\n",
              "  <div id=\"df-716c39d4-2822-4009-84e4-1178dfa8d6cf\">\n",
              "    <div class=\"colab-df-container\">\n",
              "      <div>\n",
              "<style scoped>\n",
              "    .dataframe tbody tr th:only-of-type {\n",
              "        vertical-align: middle;\n",
              "    }\n",
              "\n",
              "    .dataframe tbody tr th {\n",
              "        vertical-align: top;\n",
              "    }\n",
              "\n",
              "    .dataframe thead th {\n",
              "        text-align: right;\n",
              "    }\n",
              "</style>\n",
              "<table border=\"1\" class=\"dataframe\">\n",
              "  <thead>\n",
              "    <tr style=\"text-align: right;\">\n",
              "      <th></th>\n",
              "      <th>tweet_id</th>\n",
              "      <th>airline_sentiment</th>\n",
              "      <th>airline_sentiment_confidence</th>\n",
              "      <th>negativereason</th>\n",
              "      <th>negativereason_confidence</th>\n",
              "      <th>airline</th>\n",
              "      <th>airline_sentiment_gold</th>\n",
              "      <th>name</th>\n",
              "      <th>negativereason_gold</th>\n",
              "      <th>retweet_count</th>\n",
              "      <th>text</th>\n",
              "      <th>tweet_coord</th>\n",
              "      <th>tweet_created</th>\n",
              "      <th>tweet_location</th>\n",
              "      <th>user_timezone</th>\n",
              "      <th>sentiment</th>\n",
              "      <th>text_clean</th>\n",
              "    </tr>\n",
              "  </thead>\n",
              "  <tbody>\n",
              "    <tr>\n",
              "      <th>0</th>\n",
              "      <td>570306133677760513</td>\n",
              "      <td>neutral</td>\n",
              "      <td>1.0000</td>\n",
              "      <td>NaN</td>\n",
              "      <td>NaN</td>\n",
              "      <td>Virgin America</td>\n",
              "      <td>NaN</td>\n",
              "      <td>cairdin</td>\n",
              "      <td>NaN</td>\n",
              "      <td>0</td>\n",
              "      <td>@VirginAmerica What @dhepburn said.</td>\n",
              "      <td>NaN</td>\n",
              "      <td>2015-02-24 11:35:52 -0800</td>\n",
              "      <td>NaN</td>\n",
              "      <td>Eastern Time (US &amp; Canada)</td>\n",
              "      <td>0</td>\n",
              "      <td>@VirginAmerica What @dhepburn said.</td>\n",
              "    </tr>\n",
              "    <tr>\n",
              "      <th>2</th>\n",
              "      <td>570301083672813571</td>\n",
              "      <td>neutral</td>\n",
              "      <td>0.6837</td>\n",
              "      <td>NaN</td>\n",
              "      <td>NaN</td>\n",
              "      <td>Virgin America</td>\n",
              "      <td>NaN</td>\n",
              "      <td>yvonnalynn</td>\n",
              "      <td>NaN</td>\n",
              "      <td>0</td>\n",
              "      <td>@VirginAmerica I didn't today... Must mean I n...</td>\n",
              "      <td>NaN</td>\n",
              "      <td>2015-02-24 11:15:48 -0800</td>\n",
              "      <td>Lets Play</td>\n",
              "      <td>Central Time (US &amp; Canada)</td>\n",
              "      <td>0</td>\n",
              "      <td>@VirginAmerica I didn't today... Must mean I n...</td>\n",
              "    </tr>\n",
              "    <tr>\n",
              "      <th>3</th>\n",
              "      <td>570301031407624196</td>\n",
              "      <td>negative</td>\n",
              "      <td>1.0000</td>\n",
              "      <td>Bad Flight</td>\n",
              "      <td>0.7033</td>\n",
              "      <td>Virgin America</td>\n",
              "      <td>NaN</td>\n",
              "      <td>jnardino</td>\n",
              "      <td>NaN</td>\n",
              "      <td>0</td>\n",
              "      <td>@VirginAmerica it's really aggressive to blast...</td>\n",
              "      <td>NaN</td>\n",
              "      <td>2015-02-24 11:15:36 -0800</td>\n",
              "      <td>NaN</td>\n",
              "      <td>Pacific Time (US &amp; Canada)</td>\n",
              "      <td>1</td>\n",
              "      <td>@VirginAmerica it's really aggressive to blast...</td>\n",
              "    </tr>\n",
              "    <tr>\n",
              "      <th>4</th>\n",
              "      <td>570300817074462722</td>\n",
              "      <td>negative</td>\n",
              "      <td>1.0000</td>\n",
              "      <td>Can't Tell</td>\n",
              "      <td>1.0000</td>\n",
              "      <td>Virgin America</td>\n",
              "      <td>NaN</td>\n",
              "      <td>jnardino</td>\n",
              "      <td>NaN</td>\n",
              "      <td>0</td>\n",
              "      <td>@VirginAmerica and it's a really big bad thing...</td>\n",
              "      <td>NaN</td>\n",
              "      <td>2015-02-24 11:14:45 -0800</td>\n",
              "      <td>NaN</td>\n",
              "      <td>Pacific Time (US &amp; Canada)</td>\n",
              "      <td>1</td>\n",
              "      <td>@VirginAmerica and it's a really big bad thing...</td>\n",
              "    </tr>\n",
              "    <tr>\n",
              "      <th>5</th>\n",
              "      <td>570300767074181121</td>\n",
              "      <td>negative</td>\n",
              "      <td>1.0000</td>\n",
              "      <td>Can't Tell</td>\n",
              "      <td>0.6842</td>\n",
              "      <td>Virgin America</td>\n",
              "      <td>NaN</td>\n",
              "      <td>jnardino</td>\n",
              "      <td>NaN</td>\n",
              "      <td>0</td>\n",
              "      <td>@VirginAmerica seriously would pay $30 a fligh...</td>\n",
              "      <td>NaN</td>\n",
              "      <td>2015-02-24 11:14:33 -0800</td>\n",
              "      <td>NaN</td>\n",
              "      <td>Pacific Time (US &amp; Canada)</td>\n",
              "      <td>1</td>\n",
              "      <td>@VirginAmerica seriously would pay $30 a fligh...</td>\n",
              "    </tr>\n",
              "  </tbody>\n",
              "</table>\n",
              "</div>\n",
              "      <button class=\"colab-df-convert\" onclick=\"convertToInteractive('df-716c39d4-2822-4009-84e4-1178dfa8d6cf')\"\n",
              "              title=\"Convert this dataframe to an interactive table.\"\n",
              "              style=\"display:none;\">\n",
              "        \n",
              "  <svg xmlns=\"http://www.w3.org/2000/svg\" height=\"24px\"viewBox=\"0 0 24 24\"\n",
              "       width=\"24px\">\n",
              "    <path d=\"M0 0h24v24H0V0z\" fill=\"none\"/>\n",
              "    <path d=\"M18.56 5.44l.94 2.06.94-2.06 2.06-.94-2.06-.94-.94-2.06-.94 2.06-2.06.94zm-11 1L8.5 8.5l.94-2.06 2.06-.94-2.06-.94L8.5 2.5l-.94 2.06-2.06.94zm10 10l.94 2.06.94-2.06 2.06-.94-2.06-.94-.94-2.06-.94 2.06-2.06.94z\"/><path d=\"M17.41 7.96l-1.37-1.37c-.4-.4-.92-.59-1.43-.59-.52 0-1.04.2-1.43.59L10.3 9.45l-7.72 7.72c-.78.78-.78 2.05 0 2.83L4 21.41c.39.39.9.59 1.41.59.51 0 1.02-.2 1.41-.59l7.78-7.78 2.81-2.81c.8-.78.8-2.07 0-2.86zM5.41 20L4 18.59l7.72-7.72 1.47 1.35L5.41 20z\"/>\n",
              "  </svg>\n",
              "      </button>\n",
              "      \n",
              "  <style>\n",
              "    .colab-df-container {\n",
              "      display:flex;\n",
              "      flex-wrap:wrap;\n",
              "      gap: 12px;\n",
              "    }\n",
              "\n",
              "    .colab-df-convert {\n",
              "      background-color: #E8F0FE;\n",
              "      border: none;\n",
              "      border-radius: 50%;\n",
              "      cursor: pointer;\n",
              "      display: none;\n",
              "      fill: #1967D2;\n",
              "      height: 32px;\n",
              "      padding: 0 0 0 0;\n",
              "      width: 32px;\n",
              "    }\n",
              "\n",
              "    .colab-df-convert:hover {\n",
              "      background-color: #E2EBFA;\n",
              "      box-shadow: 0px 1px 2px rgba(60, 64, 67, 0.3), 0px 1px 3px 1px rgba(60, 64, 67, 0.15);\n",
              "      fill: #174EA6;\n",
              "    }\n",
              "\n",
              "    [theme=dark] .colab-df-convert {\n",
              "      background-color: #3B4455;\n",
              "      fill: #D2E3FC;\n",
              "    }\n",
              "\n",
              "    [theme=dark] .colab-df-convert:hover {\n",
              "      background-color: #434B5C;\n",
              "      box-shadow: 0px 1px 3px 1px rgba(0, 0, 0, 0.15);\n",
              "      filter: drop-shadow(0px 1px 2px rgba(0, 0, 0, 0.3));\n",
              "      fill: #FFFFFF;\n",
              "    }\n",
              "  </style>\n",
              "\n",
              "      <script>\n",
              "        const buttonEl =\n",
              "          document.querySelector('#df-716c39d4-2822-4009-84e4-1178dfa8d6cf button.colab-df-convert');\n",
              "        buttonEl.style.display =\n",
              "          google.colab.kernel.accessAllowed ? 'block' : 'none';\n",
              "\n",
              "        async function convertToInteractive(key) {\n",
              "          const element = document.querySelector('#df-716c39d4-2822-4009-84e4-1178dfa8d6cf');\n",
              "          const dataTable =\n",
              "            await google.colab.kernel.invokeFunction('convertToInteractive',\n",
              "                                                     [key], {});\n",
              "          if (!dataTable) return;\n",
              "\n",
              "          const docLinkHtml = 'Like what you see? Visit the ' +\n",
              "            '<a target=\"_blank\" href=https://colab.research.google.com/notebooks/data_table.ipynb>data table notebook</a>'\n",
              "            + ' to learn more about interactive tables.';\n",
              "          element.innerHTML = '';\n",
              "          dataTable['output_type'] = 'display_data';\n",
              "          await google.colab.output.renderOutput(dataTable, element);\n",
              "          const docLink = document.createElement('div');\n",
              "          docLink.innerHTML = docLinkHtml;\n",
              "          element.appendChild(docLink);\n",
              "        }\n",
              "      </script>\n",
              "    </div>\n",
              "  </div>\n",
              "  "
            ],
            "text/plain": [
              "             tweet_id  ...                                         text_clean\n",
              "0  570306133677760513  ...                @VirginAmerica What @dhepburn said.\n",
              "2  570301083672813571  ...  @VirginAmerica I didn't today... Must mean I n...\n",
              "3  570301031407624196  ...  @VirginAmerica it's really aggressive to blast...\n",
              "4  570300817074462722  ...  @VirginAmerica and it's a really big bad thing...\n",
              "5  570300767074181121  ...  @VirginAmerica seriously would pay $30 a fligh...\n",
              "\n",
              "[5 rows x 17 columns]"
            ]
          },
          "metadata": {},
          "execution_count": 8
        }
      ],
      "source": [
        "tweets.head()"
      ]
    },
    {
      "cell_type": "code",
      "execution_count": 9,
      "metadata": {
        "id": "UguwbZ3fjr8r"
      },
      "outputs": [],
      "source": [
        "data_clean = tweets.loc[:, ['text_clean', 'sentiment']]"
      ]
    },
    {
      "cell_type": "code",
      "execution_count": 10,
      "metadata": {
        "colab": {
          "base_uri": "https://localhost:8080/",
          "height": 1000
        },
        "id": "i9hraX8_j23t",
        "outputId": "d669401b-8c3f-4f65-ce79-41aab61e002d"
      },
      "outputs": [
        {
          "output_type": "execute_result",
          "data": {
            "text/html": [
              "\n",
              "  <div id=\"df-69041fb1-babf-40c6-a2be-44a10241b82c\">\n",
              "    <div class=\"colab-df-container\">\n",
              "      <div>\n",
              "<style scoped>\n",
              "    .dataframe tbody tr th:only-of-type {\n",
              "        vertical-align: middle;\n",
              "    }\n",
              "\n",
              "    .dataframe tbody tr th {\n",
              "        vertical-align: top;\n",
              "    }\n",
              "\n",
              "    .dataframe thead th {\n",
              "        text-align: right;\n",
              "    }\n",
              "</style>\n",
              "<table border=\"1\" class=\"dataframe\">\n",
              "  <thead>\n",
              "    <tr style=\"text-align: right;\">\n",
              "      <th></th>\n",
              "      <th>text_clean</th>\n",
              "      <th>sentiment</th>\n",
              "    </tr>\n",
              "  </thead>\n",
              "  <tbody>\n",
              "    <tr>\n",
              "      <th>0</th>\n",
              "      <td>@VirginAmerica What @dhepburn said.</td>\n",
              "      <td>0</td>\n",
              "    </tr>\n",
              "    <tr>\n",
              "      <th>2</th>\n",
              "      <td>@VirginAmerica I didn't today... Must mean I n...</td>\n",
              "      <td>0</td>\n",
              "    </tr>\n",
              "    <tr>\n",
              "      <th>3</th>\n",
              "      <td>@VirginAmerica it's really aggressive to blast...</td>\n",
              "      <td>1</td>\n",
              "    </tr>\n",
              "    <tr>\n",
              "      <th>4</th>\n",
              "      <td>@VirginAmerica and it's a really big bad thing...</td>\n",
              "      <td>1</td>\n",
              "    </tr>\n",
              "    <tr>\n",
              "      <th>5</th>\n",
              "      <td>@VirginAmerica seriously would pay $30 a fligh...</td>\n",
              "      <td>1</td>\n",
              "    </tr>\n",
              "    <tr>\n",
              "      <th>6</th>\n",
              "      <td>@VirginAmerica yes, nearly every time I fly VX...</td>\n",
              "      <td>0</td>\n",
              "    </tr>\n",
              "    <tr>\n",
              "      <th>7</th>\n",
              "      <td>@VirginAmerica Really missed a prime opportuni...</td>\n",
              "      <td>0</td>\n",
              "    </tr>\n",
              "    <tr>\n",
              "      <th>8</th>\n",
              "      <td>@virginamerica Well, I didn't…but NOW I DO! :-D</td>\n",
              "      <td>0</td>\n",
              "    </tr>\n",
              "    <tr>\n",
              "      <th>9</th>\n",
              "      <td>@VirginAmerica it was amazing, and arrived an ...</td>\n",
              "      <td>0</td>\n",
              "    </tr>\n",
              "    <tr>\n",
              "      <th>10</th>\n",
              "      <td>@VirginAmerica did you know that suicide is th...</td>\n",
              "      <td>0</td>\n",
              "    </tr>\n",
              "    <tr>\n",
              "      <th>11</th>\n",
              "      <td>@VirginAmerica I &lt;3 pretty graphics. so much b...</td>\n",
              "      <td>0</td>\n",
              "    </tr>\n",
              "    <tr>\n",
              "      <th>12</th>\n",
              "      <td>@VirginAmerica This is such a great deal! Alre...</td>\n",
              "      <td>0</td>\n",
              "    </tr>\n",
              "    <tr>\n",
              "      <th>13</th>\n",
              "      <td>@VirginAmerica @virginmedia I'm flying your #f...</td>\n",
              "      <td>0</td>\n",
              "    </tr>\n",
              "    <tr>\n",
              "      <th>14</th>\n",
              "      <td>@VirginAmerica Thanks!</td>\n",
              "      <td>0</td>\n",
              "    </tr>\n",
              "    <tr>\n",
              "      <th>15</th>\n",
              "      <td>@VirginAmerica SFO-PDX schedule is still MIA.</td>\n",
              "      <td>1</td>\n",
              "    </tr>\n",
              "    <tr>\n",
              "      <th>16</th>\n",
              "      <td>@VirginAmerica So excited for my first cross c...</td>\n",
              "      <td>0</td>\n",
              "    </tr>\n",
              "    <tr>\n",
              "      <th>17</th>\n",
              "      <td>@VirginAmerica  I flew from NYC to SFO last we...</td>\n",
              "      <td>1</td>\n",
              "    </tr>\n",
              "    <tr>\n",
              "      <th>18</th>\n",
              "      <td>I ❤️ flying @VirginAmerica. ☺️👍</td>\n",
              "      <td>0</td>\n",
              "    </tr>\n",
              "    <tr>\n",
              "      <th>19</th>\n",
              "      <td>@VirginAmerica you know what would be amazingl...</td>\n",
              "      <td>0</td>\n",
              "    </tr>\n",
              "    <tr>\n",
              "      <th>20</th>\n",
              "      <td>@VirginAmerica why are your first fares in May...</td>\n",
              "      <td>1</td>\n",
              "    </tr>\n",
              "    <tr>\n",
              "      <th>21</th>\n",
              "      <td>@VirginAmerica I love this graphic. http://t.c...</td>\n",
              "      <td>0</td>\n",
              "    </tr>\n",
              "    <tr>\n",
              "      <th>22</th>\n",
              "      <td>@VirginAmerica I love the hipster innovation. ...</td>\n",
              "      <td>0</td>\n",
              "    </tr>\n",
              "    <tr>\n",
              "      <th>23</th>\n",
              "      <td>@VirginAmerica will you be making BOS&gt;LAS non ...</td>\n",
              "      <td>0</td>\n",
              "    </tr>\n",
              "    <tr>\n",
              "      <th>24</th>\n",
              "      <td>@VirginAmerica you guys messed up my seating.....</td>\n",
              "      <td>1</td>\n",
              "    </tr>\n",
              "    <tr>\n",
              "      <th>25</th>\n",
              "      <td>@VirginAmerica status match program.  I applie...</td>\n",
              "      <td>1</td>\n",
              "    </tr>\n",
              "    <tr>\n",
              "      <th>26</th>\n",
              "      <td>@VirginAmerica What happened 2 ur vegan food o...</td>\n",
              "      <td>1</td>\n",
              "    </tr>\n",
              "    <tr>\n",
              "      <th>27</th>\n",
              "      <td>@VirginAmerica do you miss me? Don't worry we'...</td>\n",
              "      <td>0</td>\n",
              "    </tr>\n",
              "    <tr>\n",
              "      <th>28</th>\n",
              "      <td>@VirginAmerica amazing to me that we can't get...</td>\n",
              "      <td>1</td>\n",
              "    </tr>\n",
              "    <tr>\n",
              "      <th>29</th>\n",
              "      <td>@VirginAmerica LAX to EWR - Middle seat on a r...</td>\n",
              "      <td>0</td>\n",
              "    </tr>\n",
              "    <tr>\n",
              "      <th>30</th>\n",
              "      <td>@VirginAmerica hi! I just bked a cool birthday...</td>\n",
              "      <td>1</td>\n",
              "    </tr>\n",
              "    <tr>\n",
              "      <th>31</th>\n",
              "      <td>@VirginAmerica Are the hours of operation for ...</td>\n",
              "      <td>0</td>\n",
              "    </tr>\n",
              "    <tr>\n",
              "      <th>32</th>\n",
              "      <td>@VirginAmerica help, left expensive headphones...</td>\n",
              "      <td>1</td>\n",
              "    </tr>\n",
              "    <tr>\n",
              "      <th>33</th>\n",
              "      <td>@VirginAmerica awaiting my return phone call, ...</td>\n",
              "      <td>1</td>\n",
              "    </tr>\n",
              "    <tr>\n",
              "      <th>34</th>\n",
              "      <td>@VirginAmerica this is great news!  America co...</td>\n",
              "      <td>0</td>\n",
              "    </tr>\n",
              "    <tr>\n",
              "      <th>35</th>\n",
              "      <td>Nice RT @VirginAmerica: Vibe with the moodligh...</td>\n",
              "      <td>0</td>\n",
              "    </tr>\n",
              "    <tr>\n",
              "      <th>36</th>\n",
              "      <td>@VirginAmerica Moodlighting is the only way to...</td>\n",
              "      <td>0</td>\n",
              "    </tr>\n",
              "    <tr>\n",
              "      <th>37</th>\n",
              "      <td>@VirginAmerica @freddieawards Done and done! B...</td>\n",
              "      <td>0</td>\n",
              "    </tr>\n",
              "    <tr>\n",
              "      <th>38</th>\n",
              "      <td>@VirginAmerica when can I book my flight to Ha...</td>\n",
              "      <td>0</td>\n",
              "    </tr>\n",
              "    <tr>\n",
              "      <th>39</th>\n",
              "      <td>@VirginAmerica Your chat support is not workin...</td>\n",
              "      <td>1</td>\n",
              "    </tr>\n",
              "    <tr>\n",
              "      <th>40</th>\n",
              "      <td>@VirginAmerica View of downtown Los Angeles, t...</td>\n",
              "      <td>0</td>\n",
              "    </tr>\n",
              "  </tbody>\n",
              "</table>\n",
              "</div>\n",
              "      <button class=\"colab-df-convert\" onclick=\"convertToInteractive('df-69041fb1-babf-40c6-a2be-44a10241b82c')\"\n",
              "              title=\"Convert this dataframe to an interactive table.\"\n",
              "              style=\"display:none;\">\n",
              "        \n",
              "  <svg xmlns=\"http://www.w3.org/2000/svg\" height=\"24px\"viewBox=\"0 0 24 24\"\n",
              "       width=\"24px\">\n",
              "    <path d=\"M0 0h24v24H0V0z\" fill=\"none\"/>\n",
              "    <path d=\"M18.56 5.44l.94 2.06.94-2.06 2.06-.94-2.06-.94-.94-2.06-.94 2.06-2.06.94zm-11 1L8.5 8.5l.94-2.06 2.06-.94-2.06-.94L8.5 2.5l-.94 2.06-2.06.94zm10 10l.94 2.06.94-2.06 2.06-.94-2.06-.94-.94-2.06-.94 2.06-2.06.94z\"/><path d=\"M17.41 7.96l-1.37-1.37c-.4-.4-.92-.59-1.43-.59-.52 0-1.04.2-1.43.59L10.3 9.45l-7.72 7.72c-.78.78-.78 2.05 0 2.83L4 21.41c.39.39.9.59 1.41.59.51 0 1.02-.2 1.41-.59l7.78-7.78 2.81-2.81c.8-.78.8-2.07 0-2.86zM5.41 20L4 18.59l7.72-7.72 1.47 1.35L5.41 20z\"/>\n",
              "  </svg>\n",
              "      </button>\n",
              "      \n",
              "  <style>\n",
              "    .colab-df-container {\n",
              "      display:flex;\n",
              "      flex-wrap:wrap;\n",
              "      gap: 12px;\n",
              "    }\n",
              "\n",
              "    .colab-df-convert {\n",
              "      background-color: #E8F0FE;\n",
              "      border: none;\n",
              "      border-radius: 50%;\n",
              "      cursor: pointer;\n",
              "      display: none;\n",
              "      fill: #1967D2;\n",
              "      height: 32px;\n",
              "      padding: 0 0 0 0;\n",
              "      width: 32px;\n",
              "    }\n",
              "\n",
              "    .colab-df-convert:hover {\n",
              "      background-color: #E2EBFA;\n",
              "      box-shadow: 0px 1px 2px rgba(60, 64, 67, 0.3), 0px 1px 3px 1px rgba(60, 64, 67, 0.15);\n",
              "      fill: #174EA6;\n",
              "    }\n",
              "\n",
              "    [theme=dark] .colab-df-convert {\n",
              "      background-color: #3B4455;\n",
              "      fill: #D2E3FC;\n",
              "    }\n",
              "\n",
              "    [theme=dark] .colab-df-convert:hover {\n",
              "      background-color: #434B5C;\n",
              "      box-shadow: 0px 1px 3px 1px rgba(0, 0, 0, 0.15);\n",
              "      filter: drop-shadow(0px 1px 2px rgba(0, 0, 0, 0.3));\n",
              "      fill: #FFFFFF;\n",
              "    }\n",
              "  </style>\n",
              "\n",
              "      <script>\n",
              "        const buttonEl =\n",
              "          document.querySelector('#df-69041fb1-babf-40c6-a2be-44a10241b82c button.colab-df-convert');\n",
              "        buttonEl.style.display =\n",
              "          google.colab.kernel.accessAllowed ? 'block' : 'none';\n",
              "\n",
              "        async function convertToInteractive(key) {\n",
              "          const element = document.querySelector('#df-69041fb1-babf-40c6-a2be-44a10241b82c');\n",
              "          const dataTable =\n",
              "            await google.colab.kernel.invokeFunction('convertToInteractive',\n",
              "                                                     [key], {});\n",
              "          if (!dataTable) return;\n",
              "\n",
              "          const docLinkHtml = 'Like what you see? Visit the ' +\n",
              "            '<a target=\"_blank\" href=https://colab.research.google.com/notebooks/data_table.ipynb>data table notebook</a>'\n",
              "            + ' to learn more about interactive tables.';\n",
              "          element.innerHTML = '';\n",
              "          dataTable['output_type'] = 'display_data';\n",
              "          await google.colab.output.renderOutput(dataTable, element);\n",
              "          const docLink = document.createElement('div');\n",
              "          docLink.innerHTML = docLinkHtml;\n",
              "          element.appendChild(docLink);\n",
              "        }\n",
              "      </script>\n",
              "    </div>\n",
              "  </div>\n",
              "  "
            ],
            "text/plain": [
              "                                           text_clean  sentiment\n",
              "0                 @VirginAmerica What @dhepburn said.          0\n",
              "2   @VirginAmerica I didn't today... Must mean I n...          0\n",
              "3   @VirginAmerica it's really aggressive to blast...          1\n",
              "4   @VirginAmerica and it's a really big bad thing...          1\n",
              "5   @VirginAmerica seriously would pay $30 a fligh...          1\n",
              "6   @VirginAmerica yes, nearly every time I fly VX...          0\n",
              "7   @VirginAmerica Really missed a prime opportuni...          0\n",
              "8     @virginamerica Well, I didn't…but NOW I DO! :-D          0\n",
              "9   @VirginAmerica it was amazing, and arrived an ...          0\n",
              "10  @VirginAmerica did you know that suicide is th...          0\n",
              "11  @VirginAmerica I <3 pretty graphics. so much b...          0\n",
              "12  @VirginAmerica This is such a great deal! Alre...          0\n",
              "13  @VirginAmerica @virginmedia I'm flying your #f...          0\n",
              "14                             @VirginAmerica Thanks!          0\n",
              "15      @VirginAmerica SFO-PDX schedule is still MIA.          1\n",
              "16  @VirginAmerica So excited for my first cross c...          0\n",
              "17  @VirginAmerica  I flew from NYC to SFO last we...          1\n",
              "18                    I ❤️ flying @VirginAmerica. ☺️👍          0\n",
              "19  @VirginAmerica you know what would be amazingl...          0\n",
              "20  @VirginAmerica why are your first fares in May...          1\n",
              "21  @VirginAmerica I love this graphic. http://t.c...          0\n",
              "22  @VirginAmerica I love the hipster innovation. ...          0\n",
              "23  @VirginAmerica will you be making BOS>LAS non ...          0\n",
              "24  @VirginAmerica you guys messed up my seating.....          1\n",
              "25  @VirginAmerica status match program.  I applie...          1\n",
              "26  @VirginAmerica What happened 2 ur vegan food o...          1\n",
              "27  @VirginAmerica do you miss me? Don't worry we'...          0\n",
              "28  @VirginAmerica amazing to me that we can't get...          1\n",
              "29  @VirginAmerica LAX to EWR - Middle seat on a r...          0\n",
              "30  @VirginAmerica hi! I just bked a cool birthday...          1\n",
              "31  @VirginAmerica Are the hours of operation for ...          0\n",
              "32  @VirginAmerica help, left expensive headphones...          1\n",
              "33  @VirginAmerica awaiting my return phone call, ...          1\n",
              "34  @VirginAmerica this is great news!  America co...          0\n",
              "35  Nice RT @VirginAmerica: Vibe with the moodligh...          0\n",
              "36  @VirginAmerica Moodlighting is the only way to...          0\n",
              "37  @VirginAmerica @freddieawards Done and done! B...          0\n",
              "38  @VirginAmerica when can I book my flight to Ha...          0\n",
              "39  @VirginAmerica Your chat support is not workin...          1\n",
              "40  @VirginAmerica View of downtown Los Angeles, t...          0"
            ]
          },
          "metadata": {},
          "execution_count": 10
        }
      ],
      "source": [
        "data_clean.head(40)"
      ]
    },
    {
      "cell_type": "code",
      "execution_count": 11,
      "metadata": {
        "id": "l-U57WZ7kRC0"
      },
      "outputs": [],
      "source": [
        "#Tran Test Split \n",
        "train, test = train_test_split(data_clean, test_size=0.2, random_state=1)\n",
        "X_train = train['text_clean'].values\n",
        "X_test = test['text_clean'].values\n",
        "y_train = train['sentiment']\n",
        "y_test = test['sentiment']"
      ]
    },
    {
      "cell_type": "code",
      "execution_count": 12,
      "metadata": {
        "id": "ZvWXC-2zmwdX"
      },
      "outputs": [],
      "source": [
        "def tokenize(text): \n",
        "    tknzr = TweetTokenizer()\n",
        "    return tknzr.tokenize(text)\n",
        "\n",
        "def stem(doc):\n",
        "    return (stemmer.stem(w) for w in analyzer(doc))\n"
      ]
    },
    {
      "cell_type": "code",
      "execution_count": 13,
      "metadata": {
        "colab": {
          "base_uri": "https://localhost:8080/"
        },
        "id": "6XfK7d0_m6mF",
        "outputId": "1effc896-0b21-4665-8aab-cd72223d0796"
      },
      "outputs": [
        {
          "output_type": "stream",
          "name": "stdout",
          "text": [
            "[nltk_data] Downloading package stopwords to /root/nltk_data...\n",
            "[nltk_data]   Unzipping corpora/stopwords.zip.\n"
          ]
        }
      ],
      "source": [
        "nltk.download('stopwords')\n",
        "en_stopwords = set(stopwords.words(\"english\")) "
      ]
    },
    {
      "cell_type": "code",
      "execution_count": 14,
      "metadata": {
        "id": "eomXB77FpxWR"
      },
      "outputs": [],
      "source": [
        "#convert text  to a matrix of token counts.\n",
        "vectorizer = CountVectorizer(\n",
        "    analyzer = 'word',\n",
        "    tokenizer = tokenize,\n",
        "    lowercase = True,\n",
        "    ngram_range=(1, 1),\n",
        "    stop_words = en_stopwords)"
      ]
    },
    {
      "cell_type": "code",
      "execution_count": 15,
      "metadata": {
        "id": "Mk4uKgLZqqHe"
      },
      "outputs": [],
      "source": [
        "#usig Stratified K-Folds cross-validator. this will provide train/test indices to split data in train/test sets.\n",
        "\n",
        "#This cross-validation object is a variation of KFold that returns stratified folds. The folds are made by preserving the percentage of samples for each class.\n",
        "\n",
        "kfolds = StratifiedKFold(n_splits=5, shuffle=True, random_state=1)"
      ]
    },
    {
      "cell_type": "code",
      "execution_count": 17,
      "metadata": {
        "colab": {
          "base_uri": "https://localhost:8080/"
        },
        "id": "UxdTPEoKrBON",
        "outputId": "d5d0aa09-7ea3-4d4b-f684-3fdd8c0f684a"
      },
      "outputs": [
        {
          "output_type": "stream",
          "name": "stdout",
          "text": [
            "Fitting 5 folds for each of 3 candidates, totalling 15 fits\n"
          ]
        }
      ],
      "source": [
        "np.random.seed(1)\n",
        "\n",
        "pipeline_svm = make_pipeline(vectorizer, \n",
        "                            SVC(probability=True, kernel=\"linear\", class_weight=\"balanced\"))\n",
        "\n",
        "grid_svm = GridSearchCV(pipeline_svm,\n",
        "                    param_grid = {'svc__C': [0.01, 0.1, 1]}, \n",
        "                    cv = kfolds,\n",
        "                    scoring=\"roc_auc\",\n",
        "                    verbose=1,   \n",
        "                    n_jobs=-1) \n",
        "\n",
        "grid_svm.fit(X_train, y_train)\n",
        "grid_svm.score(X_test, y_test)"
      ]
    },
    {
      "cell_type": "code",
      "execution_count": 18,
      "metadata": {
        "colab": {
          "base_uri": "https://localhost:8080/"
        },
        "id": "GDGtPI3brQav",
        "outputId": "8eebeb92-ef1f-4294-ddec-43e46ed9bd4b"
      },
      "outputs": [
        {
          "output_type": "execute_result",
          "data": {
            "text/plain": [
              "{'svc__C': 0.1}"
            ]
          },
          "metadata": {},
          "execution_count": 18
        }
      ],
      "source": [
        "grid_svm.best_params_"
      ]
    },
    {
      "cell_type": "code",
      "execution_count": 19,
      "metadata": {
        "colab": {
          "base_uri": "https://localhost:8080/"
        },
        "id": "8YaeKkbcrRVQ",
        "outputId": "2046a0f2-1415-458b-805b-51f818584e7a"
      },
      "outputs": [
        {
          "output_type": "execute_result",
          "data": {
            "text/plain": [
              "0.8981614514688653"
            ]
          },
          "metadata": {},
          "execution_count": 19
        }
      ],
      "source": [
        "grid_svm.best_score_"
      ]
    },
    {
      "cell_type": "code",
      "execution_count": 20,
      "metadata": {
        "id": "xQg3gA9brYgx"
      },
      "outputs": [],
      "source": [
        "def report_results(model, X, y):\n",
        "    pred_proba = model.predict_proba(X)[:, 1]\n",
        "    pred = model.predict(X)        \n",
        "\n",
        "    auc = roc_auc_score(y, pred_proba)\n",
        "    acc = accuracy_score(y, pred)\n",
        "    f1 = f1_score(y, pred)\n",
        "    prec = precision_score(y, pred)\n",
        "    rec = recall_score(y, pred)\n",
        "    result = {'auc': auc, 'f1': f1, 'acc': acc, 'precision': prec, 'recall': rec}\n",
        "    return result"
      ]
    },
    {
      "cell_type": "code",
      "execution_count": 21,
      "metadata": {
        "colab": {
          "base_uri": "https://localhost:8080/"
        },
        "id": "jPHowowKrb6z",
        "outputId": "cd31ca69-7921-4d44-afb1-5586fe522c6e"
      },
      "outputs": [
        {
          "output_type": "execute_result",
          "data": {
            "text/plain": [
              "{'acc': 0.826449149600833,\n",
              " 'auc': 0.9087694920247639,\n",
              " 'f1': 0.8579545454545455,\n",
              " 'precision': 0.8903301886792453,\n",
              " 'recall': 0.8278508771929824}"
            ]
          },
          "metadata": {},
          "execution_count": 21
        }
      ],
      "source": [
        "report_results(grid_svm.best_estimator_, X_test, y_test)"
      ]
    },
    {
      "cell_type": "code",
      "execution_count": 22,
      "metadata": {
        "id": "kljxm5tqrgke"
      },
      "outputs": [],
      "source": [
        "def get_roc_curve(model, X, y):\n",
        "    pred_proba = model.predict_proba(X)[:, 1]\n",
        "    fpr, tpr, _ = roc_curve(y, pred_proba)\n",
        "    return fpr, tpr"
      ]
    },
    {
      "cell_type": "code",
      "execution_count": 23,
      "metadata": {
        "id": "CJpoWYT3rjU1"
      },
      "outputs": [],
      "source": [
        "roc_svm = get_roc_curve(grid_svm.best_estimator_, X_test, y_test)\n"
      ]
    },
    {
      "cell_type": "code",
      "execution_count": 24,
      "metadata": {
        "colab": {
          "base_uri": "https://localhost:8080/",
          "height": 513
        },
        "id": "Fe7Za1KjrmVg",
        "outputId": "3dad1eb8-8b40-4f0a-ab27-77163b1e408e"
      },
      "outputs": [
        {
          "output_type": "display_data",
          "data": {
            "image/png": "[encoded data removed]",
            "text/plain": [
              "<Figure size 1008x576 with 1 Axes>"
            ]
          },
          "metadata": {
            "needs_background": "light"
          }
        }
      ],
      "source": [
        "fpr, tpr = roc_svm\n",
        "plt.figure(figsize=(14,8))\n",
        "plt.plot(fpr, tpr, color=\"red\")\n",
        "plt.plot([0, 1], [0, 1], color='black', lw=2, linestyle='--')\n",
        "plt.xlim([0.0, 1.0])\n",
        "plt.ylim([0.0, 1.05])\n",
        "plt.xlabel('False Positive Rate')\n",
        "plt.ylabel('True Positive Rate')\n",
        "plt.title('Roc curve')\n",
        "plt.show()"
      ]
    },
    {
      "cell_type": "code",
      "execution_count": 25,
      "metadata": {
        "id": "B_YRrt3urt2Z"
      },
      "outputs": [],
      "source": [
        "from sklearn.model_selection import learning_curve\n",
        "\n",
        "train_sizes, train_scores, test_scores = \\\n",
        "    learning_curve(grid_svm.best_estimator_, X_train, y_train, cv=5, n_jobs=-1, \n",
        "                   scoring=\"roc_auc\", train_sizes=np.linspace(.1, 1.0, 10), random_state=1)\n"
      ]
    },
    {
      "cell_type": "code",
      "execution_count": 26,
      "metadata": {
        "id": "X9sbUw8lr0Gs"
      },
      "outputs": [],
      "source": [
        "def plot_learning_curve(X, y, train_sizes, train_scores, test_scores, title='', ylim=None, figsize=(14,8)):\n",
        "\n",
        "    plt.figure(figsize=figsize)\n",
        "    plt.title(title)\n",
        "    if ylim is not None:\n",
        "        plt.ylim(*ylim)\n",
        "    plt.xlabel(\"Training examples\")\n",
        "    plt.ylabel(\"Score\")\n",
        "\n",
        "    train_scores_mean = np.mean(train_scores, axis=1)\n",
        "    train_scores_std = np.std(train_scores, axis=1)\n",
        "    test_scores_mean = np.mean(test_scores, axis=1)\n",
        "    test_scores_std = np.std(test_scores, axis=1)\n",
        "    plt.grid()\n",
        "\n",
        "    plt.fill_between(train_sizes, train_scores_mean - train_scores_std,\n",
        "                     train_scores_mean + train_scores_std, alpha=0.1,\n",
        "                     color=\"r\")\n",
        "    plt.fill_between(train_sizes, test_scores_mean - test_scores_std,\n",
        "                     test_scores_mean + test_scores_std, alpha=0.1, color=\"g\")\n",
        "    plt.plot(train_sizes, train_scores_mean, 'o-', color=\"r\",\n",
        "             label=\"Training score\")\n",
        "    plt.plot(train_sizes, test_scores_mean, 'o-', color=\"g\",\n",
        "             label=\"Cross-validation score\")\n",
        "\n",
        "    plt.legend(loc=\"lower right\")\n",
        "    return plt"
      ]
    },
    {
      "cell_type": "code",
      "execution_count": 27,
      "metadata": {
        "id": "0uVHAAUMr3eN",
        "colab": {
          "base_uri": "https://localhost:8080/",
          "height": 388
        },
        "outputId": "29a3de28-eb1b-4107-d9d8-b8f56150599b"
      },
      "outputs": [
        {
          "output_type": "display_data",
          "data": {
            "image/png": "[encoded data removed]",
            "text/plain": [
              "<Figure size 1008x432 with 1 Axes>"
            ]
          },
          "metadata": {
            "needs_background": "light"
          }
        }
      ],
      "source": [
        "plot_learning_curve(X_train, y_train, train_sizes, \n",
        "                    train_scores, test_scores, ylim=(0.7, 1.01), figsize=(14,6))\n",
        "plt.show()"
      ]
    }
  ],
  "metadata": {
    "colab": {
      "collapsed_sections": [],
      "name": "Sentiment Analysis using SVM.ipynb",
      "provenance": [],
      "authorship_tag": "ABX9TyP0Nr2grXQuz7M8uka9T1BU",
      "include_colab_link": true
    },
    "kernelspec": {
      "display_name": "Python 3",
      "name": "python3"
    },
    "language_info": {
      "name": "python"
    }
  },
  "nbformat": 4,
  "nbformat_minor": 0
}